{
 "cells": [
  {
   "cell_type": "code",
   "execution_count": null,
   "id": "7b04f434",
   "metadata": {},
   "outputs": [
    {
     "name": "stdout",
     "output_type": "stream",
     "text": [
      "Shape of merged dataset: (2643, 18)\n"
     ]
    },
    {
     "data": {
      "text/html": [
       "<div>\n",
       "<style scoped>\n",
       "    .dataframe tbody tr th:only-of-type {\n",
       "        vertical-align: middle;\n",
       "    }\n",
       "\n",
       "    .dataframe tbody tr th {\n",
       "        vertical-align: top;\n",
       "    }\n",
       "\n",
       "    .dataframe thead th {\n",
       "        text-align: right;\n",
       "    }\n",
       "</style>\n",
       "<table border=\"1\" class=\"dataframe\">\n",
       "  <thead>\n",
       "    <tr style=\"text-align: right;\">\n",
       "      <th></th>\n",
       "      <th>AEZ_NAME</th>\n",
       "      <th>week_start</th>\n",
       "      <th>sm_surface</th>\n",
       "      <th>VV</th>\n",
       "      <th>VH</th>\n",
       "      <th>NDVI</th>\n",
       "      <th>LST</th>\n",
       "      <th>Rainfall_7d</th>\n",
       "      <th>Rainfall_7d_lag</th>\n",
       "      <th>ET</th>\n",
       "      <th>LAI</th>\n",
       "      <th>NDWI</th>\n",
       "      <th>NDMI</th>\n",
       "      <th>Temp_7d</th>\n",
       "      <th>Temp_7d_lagged</th>\n",
       "      <th>landcover</th>\n",
       "      <th>elevation</th>\n",
       "      <th>slope</th>\n",
       "    </tr>\n",
       "  </thead>\n",
       "  <tbody>\n",
       "    <tr>\n",
       "      <th>0</th>\n",
       "      <td>Active Tista Floodplain</td>\n",
       "      <td>2022-01-01</td>\n",
       "      <td>0.159142</td>\n",
       "      <td>-5.761691</td>\n",
       "      <td>-13.478774</td>\n",
       "      <td>0.5488</td>\n",
       "      <td>22.31</td>\n",
       "      <td>3.705716</td>\n",
       "      <td>2.430984</td>\n",
       "      <td>8.2</td>\n",
       "      <td>0.6</td>\n",
       "      <td>0.041381</td>\n",
       "      <td>0.261766</td>\n",
       "      <td>17.507983</td>\n",
       "      <td>17.870370</td>\n",
       "      <td>40</td>\n",
       "      <td>33</td>\n",
       "      <td>1.386612</td>\n",
       "    </tr>\n",
       "    <tr>\n",
       "      <th>1</th>\n",
       "      <td>Tista Meander Floodplain</td>\n",
       "      <td>2022-01-01</td>\n",
       "      <td>0.152997</td>\n",
       "      <td>-7.386647</td>\n",
       "      <td>-16.112829</td>\n",
       "      <td>0.4492</td>\n",
       "      <td>23.41</td>\n",
       "      <td>4.648317</td>\n",
       "      <td>0.000000</td>\n",
       "      <td>7.5</td>\n",
       "      <td>0.6</td>\n",
       "      <td>-0.025512</td>\n",
       "      <td>0.127510</td>\n",
       "      <td>17.625635</td>\n",
       "      <td>17.970898</td>\n",
       "      <td>40</td>\n",
       "      <td>30</td>\n",
       "      <td>2.963912</td>\n",
       "    </tr>\n",
       "    <tr>\n",
       "      <th>2</th>\n",
       "      <td>Karatoya-Bangali Floodplain</td>\n",
       "      <td>2022-01-01</td>\n",
       "      <td>0.101049</td>\n",
       "      <td>-9.252055</td>\n",
       "      <td>-16.693300</td>\n",
       "      <td>0.4091</td>\n",
       "      <td>23.61</td>\n",
       "      <td>0.000000</td>\n",
       "      <td>0.000000</td>\n",
       "      <td>10.5</td>\n",
       "      <td>0.6</td>\n",
       "      <td>0.064735</td>\n",
       "      <td>0.241161</td>\n",
       "      <td>17.894887</td>\n",
       "      <td>18.837795</td>\n",
       "      <td>10</td>\n",
       "      <td>17</td>\n",
       "      <td>0.927410</td>\n",
       "    </tr>\n",
       "    <tr>\n",
       "      <th>3</th>\n",
       "      <td>Lower Atrai Basin</td>\n",
       "      <td>2022-01-01</td>\n",
       "      <td>0.107364</td>\n",
       "      <td>-9.480288</td>\n",
       "      <td>-18.177580</td>\n",
       "      <td>0.2117</td>\n",
       "      <td>23.75</td>\n",
       "      <td>6.558670</td>\n",
       "      <td>0.000000</td>\n",
       "      <td>10.5</td>\n",
       "      <td>0.2</td>\n",
       "      <td>0.022280</td>\n",
       "      <td>0.228830</td>\n",
       "      <td>17.792813</td>\n",
       "      <td>18.636809</td>\n",
       "      <td>40</td>\n",
       "      <td>13</td>\n",
       "      <td>1.378362</td>\n",
       "    </tr>\n",
       "    <tr>\n",
       "      <th>4</th>\n",
       "      <td>Active Brahmaputra-Jamuna Floodplain</td>\n",
       "      <td>2022-01-01</td>\n",
       "      <td>0.100783</td>\n",
       "      <td>-8.074512</td>\n",
       "      <td>-16.009851</td>\n",
       "      <td>0.4884</td>\n",
       "      <td>23.81</td>\n",
       "      <td>4.167820</td>\n",
       "      <td>2.591343</td>\n",
       "      <td>8.0</td>\n",
       "      <td>0.6</td>\n",
       "      <td>0.108474</td>\n",
       "      <td>0.320618</td>\n",
       "      <td>18.043685</td>\n",
       "      <td>18.809614</td>\n",
       "      <td>40</td>\n",
       "      <td>18</td>\n",
       "      <td>2.044861</td>\n",
       "    </tr>\n",
       "  </tbody>\n",
       "</table>\n",
       "</div>"
      ],
      "text/plain": [
       "                               AEZ_NAME  week_start  sm_surface        VV  \\\n",
       "0               Active Tista Floodplain  2022-01-01    0.159142 -5.761691   \n",
       "1              Tista Meander Floodplain  2022-01-01    0.152997 -7.386647   \n",
       "2           Karatoya-Bangali Floodplain  2022-01-01    0.101049 -9.252055   \n",
       "3                     Lower Atrai Basin  2022-01-01    0.107364 -9.480288   \n",
       "4  Active Brahmaputra-Jamuna Floodplain  2022-01-01    0.100783 -8.074512   \n",
       "\n",
       "          VH    NDVI    LST  Rainfall_7d  Rainfall_7d_lag    ET  LAI  \\\n",
       "0 -13.478774  0.5488  22.31     3.705716         2.430984   8.2  0.6   \n",
       "1 -16.112829  0.4492  23.41     4.648317         0.000000   7.5  0.6   \n",
       "2 -16.693300  0.4091  23.61     0.000000         0.000000  10.5  0.6   \n",
       "3 -18.177580  0.2117  23.75     6.558670         0.000000  10.5  0.2   \n",
       "4 -16.009851  0.4884  23.81     4.167820         2.591343   8.0  0.6   \n",
       "\n",
       "       NDWI      NDMI    Temp_7d  Temp_7d_lagged  landcover  elevation  \\\n",
       "0  0.041381  0.261766  17.507983       17.870370         40         33   \n",
       "1 -0.025512  0.127510  17.625635       17.970898         40         30   \n",
       "2  0.064735  0.241161  17.894887       18.837795         10         17   \n",
       "3  0.022280  0.228830  17.792813       18.636809         40         13   \n",
       "4  0.108474  0.320618  18.043685       18.809614         40         18   \n",
       "\n",
       "      slope  \n",
       "0  1.386612  \n",
       "1  2.963912  \n",
       "2  0.927410  \n",
       "3  1.378362  \n",
       "4  2.044861  "
      ]
     },
     "execution_count": 1,
     "metadata": {},
     "output_type": "execute_result"
    }
   ],
   "source": [
    "import numpy as np\n",
    "import pandas as pd\n",
    "import matplotlib.pyplot as plt\n",
    "import seaborn as sns\n",
    "\n",
    "\n",
    "merged = pd.read_csv(r\"soil_moisture_merged.csv\")\n",
    "\n",
    "print(f\"Shape of merged dataset: {merged.shape}\")\n",
    "merged.head()"
   ]
  },
  {
   "cell_type": "markdown",
   "id": "453c4832",
   "metadata": {},
   "source": [
    "### Random Forest"
   ]
  },
  {
   "cell_type": "code",
   "execution_count": 2,
   "id": "47cb9afd",
   "metadata": {},
   "outputs": [
    {
     "name": "stdout",
     "output_type": "stream",
     "text": [
      "\n",
      "-9999/Missing values:\n",
      "AEZ_NAME             0\n",
      "week_start           0\n",
      "sm_surface           0\n",
      "VV                   0\n",
      "VH                   0\n",
      "NDVI               145\n",
      "LST                  0\n",
      "Rainfall_7d          0\n",
      "Rainfall_7d_lag      0\n",
      "ET                   0\n",
      "LAI                  0\n",
      "NDWI                 0\n",
      "NDMI                 0\n",
      "Temp_7d              0\n",
      "Temp_7d_lagged       0\n",
      "landcover            0\n",
      "elevation            0\n",
      "slope                0\n",
      "dtype: int64\n"
     ]
    }
   ],
   "source": [
    "print(\"\\n-9999/Missing values:\")\n",
    "print((merged == -9999).sum())"
   ]
  },
  {
   "cell_type": "code",
   "execution_count": 3,
   "id": "abaeebe5",
   "metadata": {},
   "outputs": [
    {
     "name": "stdout",
     "output_type": "stream",
     "text": [
      "NDVI missing filled with median: 0.5755\n"
     ]
    }
   ],
   "source": [
    "# Missing value calculation\n",
    "merged_rf = merged.copy()\n",
    "\n",
    "# NDVI median imputation\n",
    "ndvi_median = merged_rf['NDVI'].median()\n",
    "merged_rf['NDVI'] = merged_rf['NDVI'].fillna(ndvi_median)\n",
    "\n",
    "print(f\"NDVI missing filled with median: {ndvi_median:.4f}\")"
   ]
  },
  {
   "cell_type": "code",
   "execution_count": 4,
   "id": "165a33af",
   "metadata": {},
   "outputs": [],
   "source": [
    "from sklearn.model_selection import train_test_split\n",
    "from sklearn.preprocessing import StandardScaler\n",
    "from sklearn.metrics import mean_squared_error, mean_absolute_error, r2_score"
   ]
  },
  {
   "cell_type": "markdown",
   "id": "3e3f9747",
   "metadata": {},
   "source": [
    "##### RF with all features "
   ]
  },
  {
   "cell_type": "code",
   "execution_count": null,
   "id": "fa2f2eff",
   "metadata": {},
   "outputs": [
    {
     "name": "stdout",
     "output_type": "stream",
     "text": [
      "Random Forest RMSE: 0.044\n",
      "Random Forest MAE: 0.033\n",
      "Random Forest R²: 0.83\n"
     ]
    }
   ],
   "source": [
    "from sklearn.ensemble import RandomForestRegressor\n",
    "\n",
    "features_rf = merged_rf.columns.difference(['sm_surface', 'AEZ_NAME', 'week_start'])\n",
    "\n",
    "X_rf = merged_rf[features_rf]\n",
    "y_rf = merged_rf['sm_surface']\n",
    "\n",
    "# 80/20 split\n",
    "X_train_rf, X_test_rf, y_train_rf, y_test_rf = train_test_split(X_rf, y_rf, test_size=0.2, random_state=42, shuffle=True)\n",
    "\n",
    "# simple forest\n",
    "model_rf = RandomForestRegressor(\n",
    "    n_estimators=200,\n",
    "    random_state=42\n",
    ")\n",
    "\n",
    "model_rf.fit(X_train_rf, y_train_rf)\n",
    "\n",
    "# predict\n",
    "y_pred_rf = model_rf.predict(X_test_rf)\n",
    "\n",
    "# evaluation\n",
    "rmse_rf = np.sqrt(mean_squared_error(y_test_rf, y_pred_rf))\n",
    "mae_rf = mean_absolute_error(y_test_rf, y_pred_rf)\n",
    "r2_rf = r2_score(y_test_rf, y_pred_rf)\n",
    "\n",
    "print(f\"Random Forest RMSE: {rmse_rf:.3f}\")\n",
    "print(f\"Random Forest MAE: {mae_rf:.3f}\")\n",
    "print(f\"Random Forest R²: {r2_rf:.2f}\")"
   ]
  },
  {
   "cell_type": "markdown",
   "id": "fd766741",
   "metadata": {},
   "source": [
    "#### SHAP analysis"
   ]
  },
  {
   "cell_type": "code",
   "execution_count": 6,
   "id": "545cd197",
   "metadata": {},
   "outputs": [],
   "source": [
    "import shap\n",
    "explainer_rf = shap.TreeExplainer(model_rf)\n",
    "shap_values_rf = explainer_rf.shap_values(X_test_rf)"
   ]
  },
  {
   "cell_type": "code",
   "execution_count": null,
   "id": "6ab4d0a9",
   "metadata": {},
   "outputs": [
    {
     "name": "stderr",
     "output_type": "stream",
     "text": [
      "C:\\Users\\Admin\\AppData\\Local\\Temp\\ipykernel_10200\\866381647.py:13: UserWarning: The figure layout has changed to tight\n",
      "  plt.tight_layout()\n"
     ]
    },
    {
     "data": {
      "image/png": "[encoded data removed]",
      "text/plain": [
       "<Figure size 800x750 with 2 Axes>"
      ]
     },
     "metadata": {},
     "output_type": "display_data"
    }
   ],
   "source": [
    "# SHAP summary plot (beeswarm)\n",
    "plt.figure(figsize=(12, 8))\n",
    "shap.summary_plot(shap_values_rf, X_test_rf, plot_type=\"dot\", show=False)\n",
    "\n",
    "plt.title('SHAP Beeswarm Plot for Random Forest', fontsize=12, fontweight='bold')\n",
    "plt.xlabel('SHAP Value', fontsize=10)\n",
    "plt.ylabel('Features', fontsize=10)\n",
    "plt.xticks(fontsize=9)\n",
    "plt.yticks(fontsize=9)\n",
    "\n",
    "\n",
    "plt.tight_layout()\n",
    "plt.savefig('02.Shap_beeswarm_plot_rf_sorted.png', dpi=600)\n",
    "\n",
    "plt.show()"
   ]
  },
  {
   "cell_type": "code",
   "execution_count": null,
   "id": "263d2eb9",
   "metadata": {},
   "outputs": [
    {
     "name": "stdout",
     "output_type": "stream",
     "text": [
      "\n",
      "Mean Absolute SHAP Values (magnitude):\n",
      "\n",
      "ET                   : 0.0351\n",
      "elevation            : 0.0254\n",
      "Rainfall_7d_lag      : 0.0144\n",
      "slope                : 0.0095\n",
      "Temp_7d_lagged       : 0.0093\n",
      "Temp_7d              : 0.0091\n",
      "Rainfall_7d          : 0.0086\n",
      "NDMI                 : 0.0080\n",
      "VH                   : 0.0067\n",
      "LST                  : 0.0065\n",
      "VV                   : 0.0059\n",
      "LAI                  : 0.0047\n",
      "NDVI                 : 0.0026\n",
      "landcover            : 0.0026\n",
      "NDWI                 : 0.0014\n"
     ]
    }
   ],
   "source": [
    "# mean absolute SHAP values\n",
    "mean_shap = np.abs(shap_values_rf).mean(axis=0)\n",
    "shap_df = pd.DataFrame({\n",
    "    'feature': features_rf,\n",
    "    'mean_abs_shap': mean_shap\n",
    "}).sort_values(by='mean_abs_shap', ascending=False)\n",
    "\n",
    "print(\"\\nMean Absolute SHAP Values (magnitude):\\n\")\n",
    "for _, row in shap_df.iterrows():\n",
    "    print(f\"{row['feature']:<20s} : {row['mean_abs_shap']:.4f}\")\n"
   ]
  },
  {
   "cell_type": "markdown",
   "id": "7ea767ff",
   "metadata": {},
   "source": [
    "#### RF with top 5 features"
   ]
  },
  {
   "cell_type": "code",
   "execution_count": 9,
   "id": "da4ceb1b",
   "metadata": {},
   "outputs": [
    {
     "name": "stdout",
     "output_type": "stream",
     "text": [
      "== RF Model 2 (5 features) ==\n",
      "RMSE: 0.055\n",
      "MAE : 0.041\n",
      "R²  : 0.74\n"
     ]
    }
   ],
   "source": [
    "# RF Model 2\n",
    "features_rf_5 = [\n",
    "    'ET',\n",
    "    'elevation',\n",
    "    'Rainfall_7d_lag',\n",
    "    'slope',\n",
    "    'Temp_7d_lagged'\n",
    "]\n",
    "\n",
    "X_rf_5 = merged_rf[features_rf_5]\n",
    "y_rf_5 = merged_rf['sm_surface']\n",
    "\n",
    "# split\n",
    "X_train_rf_5, X_test_rf_5, y_train_rf_5, y_test_rf_5 = train_test_split(\n",
    "    X_rf_5, y_rf_5, test_size=0.2, random_state=42, shuffle=True\n",
    ")\n",
    "\n",
    "# model\n",
    "model_rf_5 = RandomForestRegressor(\n",
    "    n_estimators=200,\n",
    "    random_state=42\n",
    ")\n",
    "model_rf_5.fit(X_train_rf_5, y_train_rf_5)\n",
    "\n",
    "# predict\n",
    "y_pred_rf_5 = model_rf_5.predict(X_test_rf_5)\n",
    "\n",
    "# metrics\n",
    "rmse_rf_5 = np.sqrt(mean_squared_error(y_test_rf_5, y_pred_rf_5))\n",
    "mae_rf_5 = mean_absolute_error(y_test_rf_5, y_pred_rf_5)\n",
    "r2_rf_5 = r2_score(y_test_rf_5, y_pred_rf_5)\n",
    "\n",
    "print(\"== RF Model 2 (5 features) ==\")\n",
    "print(f\"RMSE: {rmse_rf_5:.3f}\")\n",
    "print(f\"MAE : {mae_rf_5:.3f}\")\n",
    "print(f\"R²  : {r2_rf_5:.2f}\")"
   ]
  },
  {
   "cell_type": "markdown",
   "id": "930338e4",
   "metadata": {},
   "source": [
    "#### LightGBM"
   ]
  },
  {
   "cell_type": "code",
   "execution_count": 10,
   "id": "685a008f",
   "metadata": {},
   "outputs": [],
   "source": [
    "merged_clean = merged_rf"
   ]
  },
  {
   "cell_type": "code",
   "execution_count": null,
   "id": "644e9504",
   "metadata": {},
   "outputs": [
    {
     "name": "stdout",
     "output_type": "stream",
     "text": [
      "Training until validation scores don't improve for 20 rounds\n",
      "Did not meet early stopping. Best iteration is:\n",
      "[187]\tvalid_0's rmse: 0.0421101\n",
      "== LightGBM ==\n",
      "RMSE: 0.042\n",
      "MAE : 0.031\n",
      "R²  : 0.85\n"
     ]
    }
   ],
   "source": [
    "import lightgbm as lgb\n",
    "from lightgbm import early_stopping, log_evaluation\n",
    "\n",
    "\n",
    "# features \n",
    "features_lgb_all = merged_clean.columns.difference(['sm_surface', 'AEZ_NAME', 'week_start'])\n",
    "X_lgb_all = merged_clean[features_lgb_all]\n",
    "y_lgb_all = merged_clean['sm_surface']\n",
    "\n",
    "# split\n",
    "X_train_lgb_all, X_test_lgb_all, y_train_lgb_all, y_test_lgb_all = train_test_split(\n",
    "    X_lgb_all, y_lgb_all, test_size=0.2, random_state=42, shuffle=True\n",
    ")\n",
    "\n",
    "# dataset\n",
    "train_data_all = lgb.Dataset(X_train_lgb_all, label=y_train_lgb_all)\n",
    "test_data_all = lgb.Dataset(X_test_lgb_all, label=y_test_lgb_all, reference=train_data_all)\n",
    "\n",
    "# params\n",
    "params = {\n",
    "    'objective': 'regression',\n",
    "    'metric': 'rmse',\n",
    "    'verbosity': -1,\n",
    "    'random_state': 42\n",
    "}\n",
    "\n",
    "# train\n",
    "callbacks = [\n",
    "    early_stopping(stopping_rounds=20)]\n",
    "\n",
    "model_lgb_all = lgb.train(\n",
    "    params,\n",
    "    train_data_all,\n",
    "    num_boost_round=200,\n",
    "    valid_sets=[test_data_all],\n",
    "    callbacks=callbacks\n",
    ")\n",
    "\n",
    "# predict\n",
    "y_pred_lgb_all = model_lgb_all.predict(X_test_lgb_all, num_iteration=model_lgb_all.best_iteration)\n",
    "\n",
    "# evaluation\n",
    "rmse_lgb = np.sqrt(mean_squared_error(y_test_lgb_all, y_pred_lgb_all))\n",
    "mae_lgb = mean_absolute_error(y_test_lgb_all, y_pred_lgb_all)\n",
    "r2_lgb = r2_score(y_test_lgb_all, y_pred_lgb_all)\n",
    "\n",
    "print(\"== LightGBM ==\")\n",
    "print(f\"RMSE: {rmse_lgb:.3f}\")\n",
    "print(f\"MAE : {mae_lgb:.3f}\")\n",
    "print(f\"R²  : {r2_lgb:.2f}\")"
   ]
  },
  {
   "cell_type": "code",
   "execution_count": 12,
   "id": "5c734c2b",
   "metadata": {},
   "outputs": [],
   "source": [
    "# Drop rows with missing target\n",
    "merged_clean = merged.dropna(subset=['sm_surface'])"
   ]
  },
  {
   "cell_type": "markdown",
   "id": "83f921c5",
   "metadata": {},
   "source": [
    "#### Support Vector Regressor\n",
    "Best params: {'C': 1, 'epsilon': 0.01, 'gamma': 0.1} from GridSearchCV"
   ]
  },
  {
   "cell_type": "code",
   "execution_count": null,
   "id": "97f31ec8",
   "metadata": {},
   "outputs": [
    {
     "name": "stdout",
     "output_type": "stream",
     "text": [
      "== SVR ==\n",
      "RMSE: 0.052\n",
      "MAE : 0.037\n",
      "R²  : 0.77\n"
     ]
    }
   ],
   "source": [
    "from sklearn.preprocessing import StandardScaler\n",
    "from sklearn.svm import SVR\n",
    "\n",
    "# define features \n",
    "features_svr = merged_clean.columns.difference(['sm_surface', 'AEZ_NAME', 'week_start'])\n",
    "X_svr = merged_clean[features_svr]\n",
    "y_svr = merged_clean['sm_surface']\n",
    "\n",
    "# split\n",
    "X_train_svr, X_test_svr, y_train_svr, y_test_svr = train_test_split(\n",
    "    X_svr, y_svr, test_size=0.2, random_state=42, shuffle=True\n",
    ")\n",
    "\n",
    "# scale\n",
    "scaler_svr = StandardScaler()\n",
    "X_train_svr_scaled = scaler_svr.fit_transform(X_train_svr)\n",
    "X_test_svr_scaled = scaler_svr.transform(X_test_svr)\n",
    "\n",
    "# best parameters from randomized search\n",
    "best_C = 1\n",
    "best_epsilon = 0.01\n",
    "best_gamma = 0.1\n",
    "\n",
    "# final SVR\n",
    "model_svr_final = SVR(\n",
    "    kernel='rbf',\n",
    "    C=best_C,\n",
    "    epsilon=best_epsilon,\n",
    "    gamma=best_gamma\n",
    ")\n",
    "\n",
    "# fit\n",
    "model_svr_final.fit(X_train_svr_scaled, y_train_svr)\n",
    "\n",
    "# predict\n",
    "y_pred_svr_final = model_svr_final.predict(X_test_svr_scaled)\n",
    "\n",
    "# evaluation\n",
    "rmse_svr_final = np.sqrt(mean_squared_error(y_test_svr, y_pred_svr_final))\n",
    "mae_svr_final = mean_absolute_error(y_test_svr, y_pred_svr_final)\n",
    "r2_svr_final = r2_score(y_test_svr, y_pred_svr_final)\n",
    "\n",
    "print(\"== SVR ==\")\n",
    "print(f\"RMSE: {rmse_svr_final:.3f}\")\n",
    "print(f\"MAE : {mae_svr_final:.3f}\")\n",
    "print(f\"R²  : {r2_svr_final:.2f}\")"
   ]
  },
  {
   "cell_type": "markdown",
   "id": "fb214b7b",
   "metadata": {},
   "source": [
    "#### ANN\n",
    "Best hyperparameters found:\n",
    "{'num_layers': 2, 'units_0': 32, 'dropout_0': 0.1, 'units_1': 64, 'dropout_1': 0.4, 'learning_rate': 0.001}"
   ]
  },
  {
   "cell_type": "code",
   "execution_count": 14,
   "id": "1e362f77",
   "metadata": {},
   "outputs": [],
   "source": [
    "import tensorflow as tf\n",
    "from tensorflow.keras import layers, models, callbacks\n",
    "from sklearn.metrics import mean_squared_error, mean_absolute_error, r2_score"
   ]
  },
  {
   "cell_type": "code",
   "execution_count": null,
   "id": "83c9deac",
   "metadata": {},
   "outputs": [
    {
     "name": "stdout",
     "output_type": "stream",
     "text": [
      "== Final Tuned ANN ==\n",
      "RMSE: 0.054\n",
      "MAE : 0.039\n",
      "R²  : 0.75\n"
     ]
    }
   ],
   "source": [
    "# features\n",
    "features_ann = [\n",
    "    'VV', 'VH', 'NDVI', 'LST', 'Rainfall_7d', 'Rainfall_7d_lag',\n",
    "    'ET', 'LAI', 'NDWI', 'NDMI', 'Temp_7d', 'Temp_7d_lagged',\n",
    "    'landcover', 'elevation', 'slope'\n",
    "]\n",
    "X_ann = merged_clean[features_ann]\n",
    "y_ann = merged_clean['sm_surface']\n",
    "\n",
    "# split\n",
    "X_train_ann, X_test_ann, y_train_ann, y_test_ann = train_test_split(\n",
    "    X_ann, y_ann, test_size=0.2, random_state=42\n",
    ")\n",
    "\n",
    "# scaling\n",
    "scaler_ann = StandardScaler()\n",
    "X_train_ann_scaled = scaler_ann.fit_transform(X_train_ann)\n",
    "X_test_ann_scaled = scaler_ann.transform(X_test_ann)\n",
    "\n",
    "# ANN model\n",
    "model_ann= models.Sequential([\n",
    "    layers.Input(shape=(X_train_ann_scaled.shape[1],)),\n",
    "    layers.Dense(32, activation='relu'),\n",
    "    layers.Dropout(0.1),\n",
    "    layers.Dense(64, activation='relu'),\n",
    "    layers.Dropout(0.4),\n",
    "    layers.Dense(1, activation='linear')\n",
    "])\n",
    "\n",
    "model_ann.compile(\n",
    "    optimizer=tf.keras.optimizers.Adam(learning_rate=0.001),\n",
    "    loss='mse',\n",
    "    metrics=['mae']\n",
    ")\n",
    "\n",
    "early_stop = callbacks.EarlyStopping(\n",
    "    monitor='val_loss',\n",
    "    patience=15,\n",
    "    restore_best_weights=True\n",
    ")\n",
    "\n",
    "history = model_ann.fit(\n",
    "    X_train_ann_scaled,\n",
    "    y_train_ann,\n",
    "    validation_split=0.2,\n",
    "    epochs=200,\n",
    "    batch_size=32,\n",
    "    callbacks=[early_stop],\n",
    "    verbose=0\n",
    ")\n",
    "\n",
    "# predict\n",
    "y_pred_ann = model_ann.predict(X_test_ann_scaled).flatten()\n",
    "\n",
    "# evaluation\n",
    "rmse_ann = np.sqrt(mean_squared_error(y_test_ann, y_pred_ann))\n",
    "mae_ann = mean_absolute_error(y_test_ann, y_pred_ann)\n",
    "r2_ann = r2_score(y_test_ann, y_pred_ann)\n",
    "\n",
    "print(\"== Final Tuned ANN ==\")\n",
    "print(f\"RMSE: {rmse_ann:.3f}\")\n",
    "print(f\"MAE : {mae_ann:.3f}\")\n",
    "print(f\"R²  : {r2_ann:.2f}\")"
   ]
  },
  {
   "cell_type": "code",
   "execution_count": null,
   "id": "6e375d68",
   "metadata": {},
   "outputs": [],
   "source": []
  }
 ],
 "metadata": {
  "kernelspec": {
   "display_name": "Python 3 (ipykernel)",
   "language": "python",
   "name": "python3"
  },
  "language_info": {
   "codemirror_mode": {
    "name": "ipython",
    "version": 3
   },
   "file_extension": ".py",
   "mimetype": "text/x-python",
   "name": "python",
   "nbconvert_exporter": "python",
   "pygments_lexer": "ipython3",
   "version": "3.9.15"
  }
 },
 "nbformat": 4,
 "nbformat_minor": 5
}
